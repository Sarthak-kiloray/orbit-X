{
 "cells": [
  {
   "cell_type": "code",
   "execution_count": 2,
   "metadata": {},
   "outputs": [
    {
     "name": "stderr",
     "output_type": "stream",
     "text": [
      "UsageError: unrecognized arguments: #used in jupyter notebook for interactive visualizations within notebook\n"
     ]
    }
   ],
   "source": [
    "import numpy as np \n",
    "import pandas as pd \n",
    "import matplotlib.pyplot as plt \n",
    "from pandas import DataFrame as show \n",
    "import seaborn as sns \n",
    "import squarify \n",
    "%matplotlib inline "
   ]
  },
  {
   "cell_type": "code",
   "execution_count": 3,
   "metadata": {},
   "outputs": [
    {
     "data": {
      "text/html": [
       "<div>\n",
       "<style scoped>\n",
       "    .dataframe tbody tr th:only-of-type {\n",
       "        vertical-align: middle;\n",
       "    }\n",
       "\n",
       "    .dataframe tbody tr th {\n",
       "        vertical-align: top;\n",
       "    }\n",
       "\n",
       "    .dataframe thead th {\n",
       "        text-align: right;\n",
       "    }\n",
       "</style>\n",
       "<table border=\"1\" class=\"dataframe\">\n",
       "  <thead>\n",
       "    <tr style=\"text-align: right;\">\n",
       "      <th></th>\n",
       "      <th>Name of Satellite, Alternate Names</th>\n",
       "      <th>Country/Org of UN Registry</th>\n",
       "      <th>Country of Operator/Owner</th>\n",
       "      <th>Operator/Owner</th>\n",
       "      <th>Users</th>\n",
       "      <th>Purpose</th>\n",
       "      <th>Detailed Purpose</th>\n",
       "      <th>Class of Orbit</th>\n",
       "      <th>Type of Orbit</th>\n",
       "      <th>Longitude of GEO (degrees)</th>\n",
       "      <th>...</th>\n",
       "      <th>Unnamed: 56</th>\n",
       "      <th>Unnamed: 57</th>\n",
       "      <th>Unnamed: 58</th>\n",
       "      <th>Unnamed: 59</th>\n",
       "      <th>Unnamed: 60</th>\n",
       "      <th>Unnamed: 61</th>\n",
       "      <th>Unnamed: 62</th>\n",
       "      <th>Unnamed: 63</th>\n",
       "      <th>Unnamed: 64</th>\n",
       "      <th>Unnamed: 65</th>\n",
       "    </tr>\n",
       "  </thead>\n",
       "  <tbody>\n",
       "    <tr>\n",
       "      <th>0</th>\n",
       "      <td>1HOPSAT-TD (1st-generation High Optical Perfor...</td>\n",
       "      <td>NR (3/20)</td>\n",
       "      <td>USA</td>\n",
       "      <td>Hera Systems</td>\n",
       "      <td>Commercial</td>\n",
       "      <td>Earth Observation</td>\n",
       "      <td>Technology Development</td>\n",
       "      <td>LEO</td>\n",
       "      <td>Non-Polar Inclined</td>\n",
       "      <td>0.0</td>\n",
       "      <td>...</td>\n",
       "      <td>NaN</td>\n",
       "      <td>NaN</td>\n",
       "      <td>NaN</td>\n",
       "      <td>NaN</td>\n",
       "      <td>NaN</td>\n",
       "      <td>NaN</td>\n",
       "      <td>NaN</td>\n",
       "      <td>NaN</td>\n",
       "      <td>NaN</td>\n",
       "      <td>NaN</td>\n",
       "    </tr>\n",
       "    <tr>\n",
       "      <th>1</th>\n",
       "      <td>3Cat-1</td>\n",
       "      <td>NR</td>\n",
       "      <td>Spain</td>\n",
       "      <td>Universitat Politècnica de Catalunya</td>\n",
       "      <td>Civil</td>\n",
       "      <td>Technology Development</td>\n",
       "      <td>NaN</td>\n",
       "      <td>LEO</td>\n",
       "      <td>NaN</td>\n",
       "      <td>0.0</td>\n",
       "      <td>...</td>\n",
       "      <td>NaN</td>\n",
       "      <td>NaN</td>\n",
       "      <td>NaN</td>\n",
       "      <td>NaN</td>\n",
       "      <td>NaN</td>\n",
       "      <td>NaN</td>\n",
       "      <td>NaN</td>\n",
       "      <td>NaN</td>\n",
       "      <td>NaN</td>\n",
       "      <td>NaN</td>\n",
       "    </tr>\n",
       "    <tr>\n",
       "      <th>2</th>\n",
       "      <td>Aalto-1</td>\n",
       "      <td>Finland</td>\n",
       "      <td>Finland</td>\n",
       "      <td>University of Aalto</td>\n",
       "      <td>Civil</td>\n",
       "      <td>Technology Development</td>\n",
       "      <td>NaN</td>\n",
       "      <td>LEO</td>\n",
       "      <td>NaN</td>\n",
       "      <td>0.0</td>\n",
       "      <td>...</td>\n",
       "      <td>NaN</td>\n",
       "      <td>NaN</td>\n",
       "      <td>NaN</td>\n",
       "      <td>NaN</td>\n",
       "      <td>NaN</td>\n",
       "      <td>NaN</td>\n",
       "      <td>NaN</td>\n",
       "      <td>NaN</td>\n",
       "      <td>NaN</td>\n",
       "      <td>NaN</td>\n",
       "    </tr>\n",
       "    <tr>\n",
       "      <th>3</th>\n",
       "      <td>AAUSat-4</td>\n",
       "      <td>Denmark</td>\n",
       "      <td>Denmark</td>\n",
       "      <td>University of Aalborg</td>\n",
       "      <td>Civil</td>\n",
       "      <td>Earth Observation</td>\n",
       "      <td>Automatic Identification System (AIS)</td>\n",
       "      <td>LEO</td>\n",
       "      <td>Sun-Synchronous</td>\n",
       "      <td>0.0</td>\n",
       "      <td>...</td>\n",
       "      <td>NaN</td>\n",
       "      <td>NaN</td>\n",
       "      <td>NaN</td>\n",
       "      <td>NaN</td>\n",
       "      <td>NaN</td>\n",
       "      <td>NaN</td>\n",
       "      <td>NaN</td>\n",
       "      <td>NaN</td>\n",
       "      <td>NaN</td>\n",
       "      <td>NaN</td>\n",
       "    </tr>\n",
       "    <tr>\n",
       "      <th>4</th>\n",
       "      <td>ABS-2 (Koreasat-8, ST-3)</td>\n",
       "      <td>NR</td>\n",
       "      <td>Multinational</td>\n",
       "      <td>Asia Broadcast Satellite Ltd.</td>\n",
       "      <td>Commercial</td>\n",
       "      <td>Communications</td>\n",
       "      <td>NaN</td>\n",
       "      <td>GEO</td>\n",
       "      <td>NaN</td>\n",
       "      <td>75.0</td>\n",
       "      <td>...</td>\n",
       "      <td>NaN</td>\n",
       "      <td>NaN</td>\n",
       "      <td>NaN</td>\n",
       "      <td>NaN</td>\n",
       "      <td>NaN</td>\n",
       "      <td>NaN</td>\n",
       "      <td>NaN</td>\n",
       "      <td>NaN</td>\n",
       "      <td>NaN</td>\n",
       "      <td>NaN</td>\n",
       "    </tr>\n",
       "  </tbody>\n",
       "</table>\n",
       "<p>5 rows × 66 columns</p>\n",
       "</div>"
      ],
      "text/plain": [
       "                  Name of Satellite, Alternate Names  \\\n",
       "0  1HOPSAT-TD (1st-generation High Optical Perfor...   \n",
       "1                                             3Cat-1   \n",
       "2                                           Aalto-1    \n",
       "3                                           AAUSat-4   \n",
       "4                           ABS-2 (Koreasat-8, ST-3)   \n",
       "\n",
       "  Country/Org of UN Registry Country of Operator/Owner  \\\n",
       "0                  NR (3/20)                       USA   \n",
       "1                         NR                     Spain   \n",
       "2                    Finland                   Finland   \n",
       "3                    Denmark                   Denmark   \n",
       "4                         NR             Multinational   \n",
       "\n",
       "                         Operator/Owner       Users                 Purpose  \\\n",
       "0                          Hera Systems  Commercial       Earth Observation   \n",
       "1  Universitat Politècnica de Catalunya       Civil  Technology Development   \n",
       "2                   University of Aalto       Civil  Technology Development   \n",
       "3                 University of Aalborg       Civil       Earth Observation   \n",
       "4         Asia Broadcast Satellite Ltd.  Commercial          Communications   \n",
       "\n",
       "                        Detailed Purpose Class of Orbit       Type of Orbit  \\\n",
       "0                 Technology Development            LEO  Non-Polar Inclined   \n",
       "1                                    NaN            LEO                 NaN   \n",
       "2                                    NaN            LEO                 NaN   \n",
       "3  Automatic Identification System (AIS)            LEO     Sun-Synchronous   \n",
       "4                                    NaN            GEO                 NaN   \n",
       "\n",
       "   Longitude of GEO (degrees)     ...       Unnamed: 56  Unnamed: 57  \\\n",
       "0                         0.0     ...               NaN          NaN   \n",
       "1                         0.0     ...               NaN          NaN   \n",
       "2                         0.0     ...               NaN          NaN   \n",
       "3                         0.0     ...               NaN          NaN   \n",
       "4                        75.0     ...               NaN          NaN   \n",
       "\n",
       "   Unnamed: 58  Unnamed: 59  Unnamed: 60  Unnamed: 61 Unnamed: 62 Unnamed: 63  \\\n",
       "0          NaN          NaN          NaN          NaN         NaN         NaN   \n",
       "1          NaN          NaN          NaN          NaN         NaN         NaN   \n",
       "2          NaN          NaN          NaN          NaN         NaN         NaN   \n",
       "3          NaN          NaN          NaN          NaN         NaN         NaN   \n",
       "4          NaN          NaN          NaN          NaN         NaN         NaN   \n",
       "\n",
       "  Unnamed: 64  Unnamed: 65  \n",
       "0         NaN          NaN  \n",
       "1         NaN          NaN  \n",
       "2         NaN          NaN  \n",
       "3         NaN          NaN  \n",
       "4         NaN          NaN  \n",
       "\n",
       "[5 rows x 66 columns]"
      ]
     },
     "execution_count": 3,
     "metadata": {},
     "output_type": "execute_result"
    }
   ],
   "source": [
    "df = pd.read_excel('UCS-Satellite-Database-4-1-2020.xls')\n",
    "df.head()\n",
    "\n"
   ]
  },
  {
   "cell_type": "code",
   "execution_count": 5,
   "metadata": {
    "scrolled": true
   },
   "outputs": [
    {
     "name": "stdout",
     "output_type": "stream",
     "text": [
      "Information of total number of non-empty columns\n",
      "-------------------------------------------------\n",
      "<class 'pandas.core.frame.DataFrame'>\n",
      "RangeIndex: 2670 entries, 0 to 2669\n",
      "Data columns (total 66 columns):\n",
      "Name of Satellite, Alternate Names    2666 non-null object\n",
      "Country/Org of UN Registry            2666 non-null object\n",
      "Country of Operator/Owner             2666 non-null object\n",
      "Operator/Owner                        2666 non-null object\n",
      "Users                                 2666 non-null object\n",
      "Purpose                               2666 non-null object\n",
      "Detailed Purpose                      887 non-null object\n",
      "Class of Orbit                        2666 non-null object\n",
      "Type of Orbit                         2047 non-null object\n",
      "Longitude of GEO (degrees)            2666 non-null float64\n",
      "Perigee (km)                          2666 non-null float64\n",
      "Apogee (km)                           2666 non-null float64\n",
      "Eccentricity                          2666 non-null float64\n",
      "Inclination (degrees)                 2666 non-null float64\n",
      "Period (minutes)                      2666 non-null float64\n",
      "Launch Mass (kg.)                     2477 non-null float64\n",
      "Dry Mass (kg.)                        450 non-null object\n",
      "Power (watts)                         603 non-null object\n",
      "Date of Launch                        2666 non-null datetime64[ns]\n",
      "Expected Lifetime (yrs.)              1147 non-null float64\n",
      "Contractor                            2666 non-null object\n",
      "Country of Contractor                 2664 non-null object\n",
      "Launch Site                           2666 non-null object\n",
      "Launch Vehicle                        2666 non-null object\n",
      "COSPAR Number                         2666 non-null object\n",
      "NORAD Number                          2666 non-null float64\n",
      "Comments                              1387 non-null object\n",
      "Unnamed: 27                           4 non-null object\n",
      "Source Used for Orbital Data          2451 non-null object\n",
      "Source                                2230 non-null object\n",
      "Unnamed: 30                           60 non-null object\n",
      "Source.1                              1568 non-null object\n",
      "Source.2                              744 non-null object\n",
      "Source.3                              281 non-null object\n",
      "Source.4                              84 non-null object\n",
      "Source.5                              19 non-null object\n",
      "Unnamed: 36                           0 non-null float64\n",
      "Unnamed: 37                           0 non-null float64\n",
      "Unnamed: 38                           0 non-null float64\n",
      "Unnamed: 39                           0 non-null float64\n",
      "Unnamed: 40                           0 non-null float64\n",
      "Unnamed: 41                           0 non-null float64\n",
      "Unnamed: 42                           0 non-null float64\n",
      "Unnamed: 43                           0 non-null float64\n",
      "Unnamed: 44                           0 non-null float64\n",
      "Unnamed: 45                           0 non-null float64\n",
      "Unnamed: 46                           0 non-null float64\n",
      "Unnamed: 47                           0 non-null float64\n",
      "Unnamed: 48                           0 non-null float64\n",
      "Unnamed: 49                           0 non-null float64\n",
      "Unnamed: 50                           0 non-null float64\n",
      "Unnamed: 51                           0 non-null float64\n",
      "Unnamed: 52                           0 non-null float64\n",
      "Unnamed: 53                           0 non-null float64\n",
      "Unnamed: 54                           0 non-null float64\n",
      "Unnamed: 55                           0 non-null float64\n",
      "Unnamed: 56                           0 non-null float64\n",
      "Unnamed: 57                           0 non-null float64\n",
      "Unnamed: 58                           0 non-null float64\n",
      "Unnamed: 59                           4 non-null object\n",
      "Unnamed: 60                           4 non-null object\n",
      "Unnamed: 61                           3 non-null object\n",
      "Unnamed: 62                           0 non-null float64\n",
      "Unnamed: 63                           0 non-null float64\n",
      "Unnamed: 64                           0 non-null float64\n",
      "Unnamed: 65                           3 non-null object\n",
      "dtypes: datetime64[ns](1), float64(35), object(30)\n",
      "memory usage: 1.3+ MB\n",
      "None\n"
     ]
    }
   ],
   "source": [
    "print(\"Information of total number of non-empty columns\")\n",
    "print(\"-------------------------------------------------\")\n",
    "print(df.info(null_counts=True))"
   ]
  },
  {
   "cell_type": "code",
   "execution_count": 6,
   "metadata": {},
   "outputs": [
    {
     "name": "stdout",
     "output_type": "stream",
     "text": [
      "Rows 2670 in total and Columns 66 in total\n"
     ]
    }
   ],
   "source": [
    "print('Rows {rows} in total and Columns {columns} in total'.format(rows=df.shape[0],columns=df.shape[1]))"
   ]
  },
  {
   "cell_type": "code",
   "execution_count": 9,
   "metadata": {
    "scrolled": true
   },
   "outputs": [
    {
     "name": "stdout",
     "output_type": "stream",
     "text": [
      "Columns and their datatypes\n"
     ]
    },
    {
     "data": {
      "text/plain": [
       "Name of Satellite, Alternate Names            object\n",
       "Country/Org of UN Registry                    object\n",
       "Country of Operator/Owner                     object\n",
       "Operator/Owner                                object\n",
       "Users                                         object\n",
       "Purpose                                       object\n",
       "Detailed Purpose                              object\n",
       "Class of Orbit                                object\n",
       "Type of Orbit                                 object\n",
       "Longitude of GEO (degrees)                   float64\n",
       "Perigee (km)                                 float64\n",
       "Apogee (km)                                  float64\n",
       "Eccentricity                                 float64\n",
       "Inclination (degrees)                        float64\n",
       "Period (minutes)                             float64\n",
       "Launch Mass (kg.)                            float64\n",
       "Dry Mass (kg.)                                object\n",
       "Power (watts)                                 object\n",
       "Date of Launch                        datetime64[ns]\n",
       "Expected Lifetime (yrs.)                     float64\n",
       "Contractor                                    object\n",
       "Country of Contractor                         object\n",
       "Launch Site                                   object\n",
       "Launch Vehicle                                object\n",
       "COSPAR Number                                 object\n",
       "NORAD Number                                 float64\n",
       "Comments                                      object\n",
       "Unnamed: 27                                   object\n",
       "Source Used for Orbital Data                  object\n",
       "Source                                        object\n",
       "                                           ...      \n",
       "Unnamed: 36                                  float64\n",
       "Unnamed: 37                                  float64\n",
       "Unnamed: 38                                  float64\n",
       "Unnamed: 39                                  float64\n",
       "Unnamed: 40                                  float64\n",
       "Unnamed: 41                                  float64\n",
       "Unnamed: 42                                  float64\n",
       "Unnamed: 43                                  float64\n",
       "Unnamed: 44                                  float64\n",
       "Unnamed: 45                                  float64\n",
       "Unnamed: 46                                  float64\n",
       "Unnamed: 47                                  float64\n",
       "Unnamed: 48                                  float64\n",
       "Unnamed: 49                                  float64\n",
       "Unnamed: 50                                  float64\n",
       "Unnamed: 51                                  float64\n",
       "Unnamed: 52                                  float64\n",
       "Unnamed: 53                                  float64\n",
       "Unnamed: 54                                  float64\n",
       "Unnamed: 55                                  float64\n",
       "Unnamed: 56                                  float64\n",
       "Unnamed: 57                                  float64\n",
       "Unnamed: 58                                  float64\n",
       "Unnamed: 59                                   object\n",
       "Unnamed: 60                                   object\n",
       "Unnamed: 61                                   object\n",
       "Unnamed: 62                                  float64\n",
       "Unnamed: 63                                  float64\n",
       "Unnamed: 64                                  float64\n",
       "Unnamed: 65                                   object\n",
       "Length: 66, dtype: object"
      ]
     },
     "execution_count": 9,
     "metadata": {},
     "output_type": "execute_result"
    }
   ],
   "source": [
    "print(\"Columns and their datatypes\")\n",
    "df.dtypes"
   ]
  },
  {
   "cell_type": "code",
   "execution_count": 56,
   "metadata": {},
   "outputs": [],
   "source": [
    "df['Name of Satellite, Alternate Names']=df['Name of Satellite, Alternate Names'].fillna(value='NotSpecific')\n",
    "df['Country/Org of UN Registry']=df['Country/Org of UN Registry'].fillna(value='NotSpecific')\n",
    "df['Country of Operator/Owner']=df['Country of Operator/Owner'].fillna(value='NotSpecific')\n",
    "df['Operator/Owner']=df['Operator/Owner'].fillna(value='NotSpecific')\n",
    "df['Users']=df['Users'].fillna(value='NotSpecific')\n",
    "df['Purpose']=df['Purpose'].fillna(value='NotSpecific')\n",
    "df['Class of Orbit']=df['Class of Orbit'].fillna(value='NotSpecific')\n",
    "df['Date of Launch']=df['Date of Launch'].fillna(value='NotSpecific')\n",
    "df['Longitude of GEO (degrees)']=df['Longitude of GEO (degrees)'].fillna(value='NotSpecific')\n",
    "df['Perigee (km)']=df['Perigee (km)'].fillna(value='NotSpecific')\n",
    "df['Apogee (km)']=df['Apogee (km)'].fillna(value='NotSpecific')\n",
    "df['Eccentricity']=df['Eccentricity'].fillna(value='NotSpecific')\n",
    "df['Inclination (degrees)']=df['Inclination (degrees)'].fillna(value='NotSpecific')\n",
    "df['Contractor']=df['Contractor'].fillna(value='NotSpecific')\n",
    "df['Launch Site']=df['Launch Site'].fillna(value='NotSpecific')\n",
    "df['Launch Vehicle']=df['Launch Vehicle'].fillna(value='NotSpecific')\n",
    "df['COSPAR Number']=df['COSPAR Number'].fillna(value='NotSpecific')\n",
    "df['Launch Mass (kg.)']=df['Launch Mass (kg.)'].fillna(value='NotSpecific')\n",
    "df['Country of Contractor']=df['Country of Contractor'].fillna(value='NotSpecific')\n",
    "df['Type of Orbit']=df['Type of Orbit'].fillna(value='NotSpecific')\n",
    "df['NORAD Number']=df['NORAD Number'].fillna(value='NotSpecific')\n"
   ]
  },
  {
   "cell_type": "code",
   "execution_count": 57,
   "metadata": {},
   "outputs": [
    {
     "name": "stdout",
     "output_type": "stream",
     "text": [
      "Frequency count of missing values\n"
     ]
    },
    {
     "data": {
      "text/plain": [
       "Name of Satellite, Alternate Names       0\n",
       "Country/Org of UN Registry               0\n",
       "Country of Operator/Owner                0\n",
       "Operator/Owner                           0\n",
       "Users                                    0\n",
       "Purpose                                  0\n",
       "Class of Orbit                           0\n",
       "Type of Orbit                            0\n",
       "Longitude of GEO (degrees)               0\n",
       "Perigee (km)                             0\n",
       "Apogee (km)                              0\n",
       "Eccentricity                             0\n",
       "Inclination (degrees)                    0\n",
       "Period (minutes)                         0\n",
       "Launch Mass (kg.)                        0\n",
       "Date of Launch                           0\n",
       "Expected Lifetime (yrs.)              1523\n",
       "Contractor                               0\n",
       "Country of Contractor                    0\n",
       "Launch Site                              0\n",
       "Launch Vehicle                           0\n",
       "COSPAR Number                            0\n",
       "NORAD Number                             0\n",
       "dtype: int64"
      ]
     },
     "execution_count": 57,
     "metadata": {},
     "output_type": "execute_result"
    }
   ],
   "source": [
    "print(\"Frequency count of missing values\")\n",
    "df.apply(lambda X:sum(X.isnull()))"
   ]
  },
  {
   "cell_type": "code",
   "execution_count": 113,
   "metadata": {},
   "outputs": [],
   "source": [
    "df.rename(columns={'Country/Org of UN Registry': 'OriginCountry', 'Country of Operator/Owner': 'OperatorCountry','Operator/Owner': 'Owner','Name of Satellite, Alternate Names':'Name_of_satellite','Launch Site':'Launch_site'}, inplace=True)"
   ]
  },
  {
   "cell_type": "code",
   "execution_count": 90,
   "metadata": {},
   "outputs": [],
   "source": [
    "cmi=show(df.groupby('Owner')['Name_of_satellite'].count().sort_values(ascending=False))"
   ]
  },
  {
   "cell_type": "code",
   "execution_count": 91,
   "metadata": {},
   "outputs": [
    {
     "data": {
      "image/png": "[encoded data removed]",
      "text/plain": [
       "<Figure size 1080x864 with 1 Axes>"
      ]
     },
     "metadata": {
      "needs_background": "light"
     },
     "output_type": "display_data"
    },
    {
     "data": {
      "text/html": [
       "<div>\n",
       "<style scoped>\n",
       "    .dataframe tbody tr th:only-of-type {\n",
       "        vertical-align: middle;\n",
       "    }\n",
       "\n",
       "    .dataframe tbody tr th {\n",
       "        vertical-align: top;\n",
       "    }\n",
       "\n",
       "    .dataframe thead th {\n",
       "        text-align: right;\n",
       "    }\n",
       "</style>\n",
       "<table border=\"1\" class=\"dataframe\">\n",
       "  <thead>\n",
       "    <tr style=\"text-align: right;\">\n",
       "      <th></th>\n",
       "      <th>Name_of_satellite</th>\n",
       "    </tr>\n",
       "    <tr>\n",
       "      <th>Owner</th>\n",
       "      <th></th>\n",
       "    </tr>\n",
       "  </thead>\n",
       "  <tbody>\n",
       "    <tr>\n",
       "      <th>SpaceX</th>\n",
       "      <td>358</td>\n",
       "    </tr>\n",
       "    <tr>\n",
       "      <th>Planet Labs, Inc.</th>\n",
       "      <td>246</td>\n",
       "    </tr>\n",
       "    <tr>\n",
       "      <th>Ministry of Defense</th>\n",
       "      <td>109</td>\n",
       "    </tr>\n",
       "    <tr>\n",
       "      <th>Spire Global Inc.</th>\n",
       "      <td>89</td>\n",
       "    </tr>\n",
       "    <tr>\n",
       "      <th>Iridium Communications, Inc.</th>\n",
       "      <td>78</td>\n",
       "    </tr>\n",
       "    <tr>\n",
       "      <th>OneWeb Satellites</th>\n",
       "      <td>74</td>\n",
       "    </tr>\n",
       "    <tr>\n",
       "      <th>People's Liberation Army (C41)</th>\n",
       "      <td>68</td>\n",
       "    </tr>\n",
       "    <tr>\n",
       "      <th>Chinese Defense Ministry</th>\n",
       "      <td>49</td>\n",
       "    </tr>\n",
       "    <tr>\n",
       "      <th>SES S.A.</th>\n",
       "      <td>48</td>\n",
       "    </tr>\n",
       "    <tr>\n",
       "      <th>Indian Space Research Organization (ISRO)</th>\n",
       "      <td>45</td>\n",
       "    </tr>\n",
       "  </tbody>\n",
       "</table>\n",
       "</div>"
      ],
      "text/plain": [
       "                                           Name_of_satellite\n",
       "Owner                                                       \n",
       "SpaceX                                                   358\n",
       "Planet Labs, Inc.                                        246\n",
       "Ministry of Defense                                      109\n",
       "Spire Global Inc.                                         89\n",
       "Iridium Communications, Inc.                              78\n",
       "OneWeb Satellites                                         74\n",
       "People's Liberation Army (C41)                            68\n",
       "Chinese Defense Ministry                                  49\n",
       "SES S.A.                                                  48\n",
       "Indian Space Research Organization (ISRO)                 45"
      ]
     },
     "execution_count": 91,
     "metadata": {},
     "output_type": "execute_result"
    }
   ],
   "source": [
    "fig=plt.figure(figsize=(15,12))\n",
    "sns.barplot(y='Name_of_satellite',x='Owner',data=cmi.reset_index().head(7))\n",
    "plt.show()\n",
    "cmi.head(10)"
   ]
  },
  {
   "cell_type": "code",
   "execution_count": 96,
   "metadata": {},
   "outputs": [],
   "source": [
    "df['No_of_satellites']=df['OperatorCountry'].value_counts()"
   ]
  },
  {
   "cell_type": "code",
   "execution_count": 119,
   "metadata": {},
   "outputs": [],
   "source": [
    "df['No_of_satellites']=df['Name_of_satellite']"
   ]
  },
  {
   "cell_type": "code",
   "execution_count": 121,
   "metadata": {},
   "outputs": [],
   "source": [
    "cmi2=show(df.groupby('Launch_site')['No_of_satellites'].count().sort_values(ascending=False))"
   ]
  },
  {
   "cell_type": "code",
   "execution_count": 127,
   "metadata": {},
   "outputs": [
    {
     "data": {
      "image/png": "[encoded data removed]",
      "text/plain": [
       "<Figure size 1080x936 with 1 Axes>"
      ]
     },
     "metadata": {
      "needs_background": "light"
     },
     "output_type": "display_data"
    },
    {
     "data": {
      "image/png": "[encoded data removed]",
      "text/plain": [
       "<Figure size 1080x936 with 1 Axes>"
      ]
     },
     "metadata": {
      "needs_background": "light"
     },
     "output_type": "display_data"
    }
   ],
   "source": [
    "fig=plt.figure(figsize=(15,13))\n",
    "sns.barplot(y='No_of_satellites',x='Launch_site',data=cmi2.reset_index().head(7))\n",
    "plt.show()\n",
    "cmi2.head(10)\n",
    "plt.figure(figsize=(15,13)) # this creates a figure 8 inch wide, 4 inch high\n",
    "sns.countplot(x=\"Launch_site\", data=df)\n",
    "ax = sns.countplot(x=\"Launch_site\", data=df)\n",
    "ax.set_xticklabels(ax.get_xticklabels(), rotation=40, ha=\"right\")\n",
    "plt.tight_layout()\n",
    "plt.show()"
   ]
  },
  {
   "cell_type": "code",
   "execution_count": null,
   "metadata": {},
   "outputs": [],
   "source": []
  }
 ],
 "metadata": {
  "kernelspec": {
   "display_name": "Python 3",
   "language": "python",
   "name": "python3"
  },
  "language_info": {
   "codemirror_mode": {
    "name": "ipython",
    "version": 3
   },
   "file_extension": ".py",
   "mimetype": "text/x-python",
   "name": "python",
   "nbconvert_exporter": "python",
   "pygments_lexer": "ipython3",
   "version": "3.7.1"
  }
 },
 "nbformat": 4,
 "nbformat_minor": 2
}
